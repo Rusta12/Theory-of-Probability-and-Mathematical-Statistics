{
 "cells": [
  {
   "cell_type": "markdown",
   "metadata": {},
   "source": [
    "### Урок 1. Случайные события. Условная вероятность. Формула Байеса. Независимые испытания"
   ]
  },
  {
   "cell_type": "markdown",
   "metadata": {},
   "source": [
    "1. Из колоды в 52 карты извлекаются случайным образом 4 карты.\n",
    "    1. Найти вероятность того, что все карты – крести. \n",
    "    2. Найти вероятность, что среди 4-х карт окажется хотя бы один туз.\n"
   ]
  },
  {
   "cell_type": "code",
   "execution_count": 2,
   "metadata": {},
   "outputs": [],
   "source": [
    "from math import factorial as fct"
   ]
  },
  {
   "cell_type": "code",
   "execution_count": 5,
   "metadata": {},
   "outputs": [],
   "source": [
    "# формула\n",
    "def combinations(n, k):\n",
    "    return int(fct(n) / (fct(k) * fct(n - k)))"
   ]
  },
  {
   "cell_type": "markdown",
   "metadata": {},
   "source": [
    "13 карт каждой масти из 52 карт. \n",
    "Считаем число возможных событий 4 карт для одной масти из 13 карт"
   ]
  },
  {
   "cell_type": "code",
   "execution_count": 4,
   "metadata": {},
   "outputs": [
    {
     "data": {
      "text/plain": [
       "715"
      ]
     },
     "execution_count": 4,
     "metadata": {},
     "output_type": "execute_result"
    }
   ],
   "source": [
    "k13k4 = combinations(13, 4)\n",
    "k13k4"
   ]
  },
  {
   "cell_type": "markdown",
   "metadata": {},
   "source": [
    "Cчитаем число возможных событий 4 карт для одной масти из 52 карт"
   ]
  },
  {
   "cell_type": "code",
   "execution_count": 6,
   "metadata": {},
   "outputs": [
    {
     "data": {
      "text/plain": [
       "270725"
      ]
     },
     "execution_count": 6,
     "metadata": {},
     "output_type": "execute_result"
    }
   ],
   "source": [
    "k52k4 = combinations(52, 4)\n",
    "k52k4"
   ]
  },
  {
   "cell_type": "code",
   "execution_count": 17,
   "metadata": {},
   "outputs": [
    {
     "name": "stdout",
     "output_type": "stream",
     "text": [
      "Вероятность, что с первого раза извлечем все 4 карты крести = 0.26%\n"
     ]
    }
   ],
   "source": [
    "k4 = k13k4 / k52k4\n",
    "print('Вероятность, что с первого раза извлечем все 4 карты крести = {0:.2f}%'.format(k4 * 100))"
   ]
  },
  {
   "cell_type": "markdown",
   "metadata": {},
   "source": [
    "Считаем вероятность тузов "
   ]
  },
  {
   "cell_type": "code",
   "execution_count": 28,
   "metadata": {},
   "outputs": [],
   "source": [
    "k4t1 = combinations(4, 1)\n",
    "k4t2 = combinations(4, 2)\n",
    "k4t3 = combinations(4, 3)\n",
    "k4t4 = combinations(4, 4)"
   ]
  },
  {
   "cell_type": "markdown",
   "metadata": {},
   "source": [
    "Извлекаем тузы из колоды = 48 карт"
   ]
  },
  {
   "cell_type": "code",
   "execution_count": 29,
   "metadata": {},
   "outputs": [],
   "source": [
    "k48t3 = combinations(48, 3)\n",
    "k48t2 = combinations(48, 2)\n",
    "k48t1 = combinations(48, 1)\n",
    "k48t0 = combinations(48, 0)"
   ]
  },
  {
   "cell_type": "code",
   "execution_count": 30,
   "metadata": {},
   "outputs": [],
   "source": [
    "tyz1 = k4t1 * k48t3 / k52k4\n",
    "tyz2 = k4t2 * k48t2 / k52k4\n",
    "tyz3 = k4t3 * k48t1 / k52k4\n",
    "tyz4 = k4t4 * k48t0 / k52k4"
   ]
  },
  {
   "cell_type": "code",
   "execution_count": 31,
   "metadata": {},
   "outputs": [],
   "source": [
    "tyz = tyz1 + tyz2 + tyz3 + tyz4"
   ]
  },
  {
   "cell_type": "code",
   "execution_count": 38,
   "metadata": {},
   "outputs": [
    {
     "name": "stdout",
     "output_type": "stream",
     "text": [
      "Вероятность, что с первого раза окажется из 4 карт 1 туз = 28%\n"
     ]
    }
   ],
   "source": [
    "print('Вероятность, что с первого раза окажется из 4 карт 1 туз = {0:.0f}%'.format(tyz * 100))"
   ]
  },
  {
   "cell_type": "markdown",
   "metadata": {},
   "source": [
    "2. На входной двери подъезда установлен кодовый замок, содержащий десять кнопок с цифрами от 0 до 9. Код содержит три цифры, которые нужно нажать одновременно. Какова вероятность того, что человек, не знающий код, откроет дверь с первой попытки?"
   ]
  },
  {
   "cell_type": "markdown",
   "metadata": {},
   "source": [
    "Количество сочетаний из 10 по 3:"
   ]
  },
  {
   "cell_type": "code",
   "execution_count": 46,
   "metadata": {},
   "outputs": [],
   "source": [
    "s10c3 = combinations(10, 3)\n",
    "try3 = 1 / s10c3\n"
   ]
  },
  {
   "cell_type": "code",
   "execution_count": 48,
   "metadata": {},
   "outputs": [
    {
     "name": "stdout",
     "output_type": "stream",
     "text": [
      "Количество комбинаций:  120\n",
      "Вероятность, что с первого раза угадает код = 1%\n"
     ]
    }
   ],
   "source": [
    "print('Количество комбинаций: ', s10c3)\n",
    "print('Вероятность, что с первого раза угадает код = {0:.0f}%'.format(try3 * 100))"
   ]
  },
  {
   "cell_type": "markdown",
   "metadata": {},
   "source": [
    "3. В ящике имеется 15 деталей, из которых 9 окрашены. Рабочий случайным образом извлекает 3 детали. Какова вероятность того, что все извлеченные детали окрашены?"
   ]
  },
  {
   "cell_type": "code",
   "execution_count": 50,
   "metadata": {},
   "outputs": [],
   "source": [
    "d1 = 9 / 15\n",
    "d2 = 8 / 14\n",
    "d3 = 7 / 13"
   ]
  },
  {
   "cell_type": "code",
   "execution_count": 54,
   "metadata": {},
   "outputs": [
    {
     "name": "stdout",
     "output_type": "stream",
     "text": [
      "Вероятность того, что все извлеченные детали окрашены = 18%\n"
     ]
    }
   ],
   "source": [
    "result = d1 * d2 * d3\n",
    "print('Вероятность того, что все извлеченные детали окрашены = {0:.0f}%'.format(result * 100))"
   ]
  },
  {
   "cell_type": "markdown",
   "metadata": {},
   "source": [
    "4. В лотерее 100 билетов. Из них 2 выигрышных. Какова вероятность того, что 2 приобретенных билета окажутся выигрышными?"
   ]
  },
  {
   "cell_type": "code",
   "execution_count": 55,
   "metadata": {},
   "outputs": [],
   "source": [
    "ticket2 = combinations(100, 2)\n",
    "ticket1 = 1 / ticket2"
   ]
  },
  {
   "cell_type": "code",
   "execution_count": 56,
   "metadata": {},
   "outputs": [
    {
     "name": "stdout",
     "output_type": "stream",
     "text": [
      "Вероятность того, что 2 приобретенных билета окажутся выигрышными = 0.02%\n"
     ]
    }
   ],
   "source": [
    "print('Вероятность того, что 2 приобретенных билета окажутся выигрышными = {0:.2f}%'.format(ticket1 * 100))"
   ]
  },
  {
   "cell_type": "code",
   "execution_count": null,
   "metadata": {},
   "outputs": [],
   "source": []
  }
 ],
 "metadata": {
  "kernelspec": {
   "display_name": "Python 3",
   "language": "python",
   "name": "python3"
  },
  "language_info": {
   "codemirror_mode": {
    "name": "ipython",
    "version": 3
   },
   "file_extension": ".py",
   "mimetype": "text/x-python",
   "name": "python",
   "nbconvert_exporter": "python",
   "pygments_lexer": "ipython3",
   "version": "3.7.3"
  }
 },
 "nbformat": 4,
 "nbformat_minor": 2
}
