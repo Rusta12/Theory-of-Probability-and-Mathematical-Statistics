{
 "cells": [
  {
   "cell_type": "code",
   "execution_count": 9,
   "metadata": {},
   "outputs": [],
   "source": [
    "import math\n",
    "from math import factorial as fct"
   ]
  },
  {
   "cell_type": "markdown",
   "metadata": {},
   "source": [
    "### Урок 2. Дискретные случайные величины. Закон распределения вероятностей. Биномиальный закон распределения. Распределение Пуассона"
   ]
  },
  {
   "cell_type": "markdown",
   "metadata": {},
   "source": [
    "1. Вероятность того, что стрелок попадет в мишень, выстрелив один раз, равна 0.8. Стрелок выстрелил 100 раз. Найдите вероятность того, что стрелок попадет в цель ровно 85 раз."
   ]
  },
  {
   "cell_type": "code",
   "execution_count": 7,
   "metadata": {},
   "outputs": [],
   "source": [
    "# сочетания\n",
    "def combinations(n, k):\n",
    "    return int(fct(n) / (fct(k) * fct(n - k)))"
   ]
  },
  {
   "cell_type": "markdown",
   "metadata": {},
   "source": [
    "##### Расчёт с помощью формулы Бернулли:"
   ]
  },
  {
   "cell_type": "code",
   "execution_count": 15,
   "metadata": {},
   "outputs": [
    {
     "name": "stdout",
     "output_type": "stream",
     "text": [
      "Вероятность, что стрелок попадет в цель ровно 85 раз = 4.81%\n"
     ]
    }
   ],
   "source": [
    "p = 0.8\n",
    "q = 1 - p\n",
    "\n",
    "n = 100\n",
    "k = 85\n",
    "\n",
    "pnk = combinations(n, k) * p ** k * q ** (n - k)\n",
    "print('Вероятность, что стрелок попадет в цель ровно 85 раз = {0:.2f}%'.format(pnk * 100))"
   ]
  },
  {
   "cell_type": "markdown",
   "metadata": {},
   "source": [
    "2. Вероятность того, что лампочка перегорит в течение первого дня эксплуатации, равна 0.0004. В жилом комплексе после ремонта в один день включили 5000 новых лампочек. Какова вероятность, что ни одна из них не перегорит в первый день? Какова вероятность, что перегорят ровно две?"
   ]
  },
  {
   "cell_type": "markdown",
   "metadata": {},
   "source": [
    "##### Если проводится большое количество испытаний n и при этом вероятность p появления события A в отдельном испытании мала, применяют формулу Пуассона для вычисления вероятности того, что событие произойдет m раз в n испытаниях:"
   ]
  },
  {
   "cell_type": "code",
   "execution_count": 25,
   "metadata": {},
   "outputs": [
    {
     "name": "stdout",
     "output_type": "stream",
     "text": [
      "Вероятность перегорания лампочек: 13.53%\n",
      "Вероятность перегорания 2 лампочек: 27.07%\n"
     ]
    }
   ],
   "source": [
    "def px(m, n=5000, p=0.0004):\n",
    "    return (n * p) ** m / fct(m) * math.e ** (-n * p)\n",
    "print('Вероятность перегорания лампочек: {0:.2f}%'.format(px(0) * 100))\n",
    "print('Вероятность перегорания 2 лампочек: {0:.2f}%'.format(px(2) * 100))"
   ]
  },
  {
   "cell_type": "markdown",
   "metadata": {},
   "source": [
    "3. Монету подбросили 144 раза. Какова вероятность, что орел выпадет ровно 70 раз?"
   ]
  },
  {
   "cell_type": "markdown",
   "metadata": {},
   "source": [
    " ##### Расчёт с помощью формулы Бернулли:"
   ]
  },
  {
   "cell_type": "code",
   "execution_count": 28,
   "metadata": {},
   "outputs": [
    {
     "name": "stdout",
     "output_type": "stream",
     "text": [
      "Вероятность, что орел выпадет ровно 70 раз = 6.28%\n"
     ]
    }
   ],
   "source": [
    "p = 1 / 2\n",
    "q = 1 - p\n",
    "\n",
    "n = 144\n",
    "k = 70\n",
    "\n",
    "pnk = combinations(n, k) * p ** k * q ** (n - k)\n",
    "print('Вероятность, что орел выпадет ровно 70 раз = {0:.2f}%'.format(pnk * 100))"
   ]
  },
  {
   "cell_type": "markdown",
   "metadata": {},
   "source": [
    "4. В первом ящике находится 10 мячей, из которых 7 - белые. Во втором ящике - 11 мячей, из которых 9 белых. Из каждого ящика вытаскивают случайным образом по два мяча. Какова вероятность того, что все мячи белые? Какова вероятность того, что ровно два мяча белые? Какова вероятность того, что хотя бы один мяч белый?"
   ]
  },
  {
   "cell_type": "code",
   "execution_count": 29,
   "metadata": {},
   "outputs": [],
   "source": [
    "def box(x, n, k):\n",
    "    return combinations(k, x) * combinations (n-k, 2-x) / combinations(n, 2)\n",
    "\n",
    "def box1(x):\n",
    "    return box(x, n=10, k = 7)\n",
    "\n",
    "def box2(x):\n",
    "    return box(x, n=11, k = 9)\n",
    "\n",
    "def boxes(x1, x2):\n",
    "    return box1(x1) * box2(x2)"
   ]
  },
  {
   "cell_type": "code",
   "execution_count": 30,
   "metadata": {},
   "outputs": [
    {
     "name": "stdout",
     "output_type": "stream",
     "text": [
      "Вероятность, что все мячи белые = 30.55%\n"
     ]
    }
   ],
   "source": [
    "print('Вероятность, что все мячи белые = {0:.2f}%'.format(boxes(2, 2) * 100))"
   ]
  },
  {
   "cell_type": "code",
   "execution_count": 45,
   "metadata": {},
   "outputs": [
    {
     "name": "stdout",
     "output_type": "stream",
     "text": [
      "Вероятность, что два мяча белые = 4.52%\n"
     ]
    }
   ],
   "source": [
    "print('Вероятность, что два мяча белые = {0:.2f}%'.format(boxes(2, 0) + boxes(1, 1) + boxes(0, 2) * 100))\n",
    "\n"
   ]
  },
  {
   "cell_type": "code",
   "execution_count": 42,
   "metadata": {},
   "outputs": [],
   "source": [
    "combs = ((0, 1), (0, 2), (1, 0), (1, 1), (1, 2), (2, 0), (2, 1), (2, 2))\n",
    "xbx = sum(boxes(*c) for c in combs)"
   ]
  },
  {
   "cell_type": "code",
   "execution_count": 43,
   "metadata": {},
   "outputs": [
    {
     "name": "stdout",
     "output_type": "stream",
     "text": [
      "Вероятность, что хотя бы один мяч белый = 99.88%\n"
     ]
    }
   ],
   "source": [
    "print('Вероятность, что хотя бы один мяч белый = {0:.2f}%'.format(xbx * 100))"
   ]
  }
 ],
 "metadata": {
  "kernelspec": {
   "display_name": "Python 3",
   "language": "python",
   "name": "python3"
  },
  "language_info": {
   "codemirror_mode": {
    "name": "ipython",
    "version": 3
   },
   "file_extension": ".py",
   "mimetype": "text/x-python",
   "name": "python",
   "nbconvert_exporter": "python",
   "pygments_lexer": "ipython3",
   "version": "3.8.3"
  }
 },
 "nbformat": 4,
 "nbformat_minor": 4
}
