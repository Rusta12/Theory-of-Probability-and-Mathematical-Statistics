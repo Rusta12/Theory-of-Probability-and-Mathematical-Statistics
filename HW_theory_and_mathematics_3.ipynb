{
 "cells": [
  {
   "cell_type": "code",
   "execution_count": 7,
   "metadata": {},
   "outputs": [],
   "source": [
    "import math\n",
    "import pandas as pd\n",
    "import matplotlib.pyplot as plt\n",
    "from math import factorial as fct\n",
    "\n",
    "# сочетания\n",
    "def combinations(n, k):\n",
    "    return int(fct(n) / (fct(k) * fct(n - k)))"
   ]
  },
  {
   "cell_type": "markdown",
   "metadata": {},
   "source": [
    "#### Урок 3. Описательная статистика. Качественные и количественные характеристики популяции. Графическое представление данных"
   ]
  },
  {
   "cell_type": "markdown",
   "metadata": {},
   "source": [
    "1. Даны значения зарплат из выборки выпускников: 100, 80, 75, 77, 89, 33, 45, 25, 65, 17, 30, 24, 57, 55, 70, 75, 65, 84, 90, 150. Посчитать (желательно без использования статистических методов наподобие std, var, mean) среднее арифметическое, среднее квадратичное отклонение, смещенную и несмещенную оценки дисперсий для данной выборки."
   ]
  },
  {
   "cell_type": "code",
   "execution_count": 6,
   "metadata": {},
   "outputs": [],
   "source": [
    "table = [100, 80, 75, 77, 89, 33, 45, 25, 65, 17, 30, 24, 57, 55, 70, 75, 65, 84, 90, 150]"
   ]
  },
  {
   "cell_type": "code",
   "execution_count": 16,
   "metadata": {},
   "outputs": [
    {
     "name": "stdout",
     "output_type": "stream",
     "text": [
      "Cреднее арифметическое: 65.3\n"
     ]
    }
   ],
   "source": [
    "def medium(table):\n",
    "    return sum(table) / len(table)\n",
    "print(f'Cреднее арифметическое: {medium(table)}')"
   ]
  },
  {
   "cell_type": "code",
   "execution_count": 19,
   "metadata": {},
   "outputs": [],
   "source": [
    "def dispersion(table, ddof=0):\n",
    "    medium_table = medium(table)\n",
    "    return sum((x - medium_table) ** 2 for x in table) / (len(table) - ddof)\n",
    "\n",
    "\n",
    "def std(table, ddof=0):\n",
    "     return dispersion(table, ddof=ddof) ** 0.5"
   ]
  },
  {
   "cell_type": "code",
   "execution_count": 23,
   "metadata": {},
   "outputs": [
    {
     "name": "stdout",
     "output_type": "stream",
     "text": [
      "Cреднее квадратичное отклонение: 30.82\n"
     ]
    }
   ],
   "source": [
    "print('Cреднее квадратичное отклонение: {0:.2f}'.format(std(table)))"
   ]
  },
  {
   "cell_type": "code",
   "execution_count": 29,
   "metadata": {},
   "outputs": [
    {
     "name": "stdout",
     "output_type": "stream",
     "text": [
      "Дисперсия: 950.11\n"
     ]
    }
   ],
   "source": [
    "print('Дисперсия: {0:.2f}'.format(dispersion(table)))"
   ]
  },
  {
   "cell_type": "markdown",
   "metadata": {},
   "source": [
    "2. В первом ящике находится 8 мячей, из которых 5 - белые. Во втором ящике - 12 мячей, из которых 5 белых. Из первого ящика вытаскивают случайным образом два мяча, из второго - 4. Какова вероятность того, что 3 мяча белые?"
   ]
  },
  {
   "cell_type": "code",
   "execution_count": 30,
   "metadata": {},
   "outputs": [],
   "source": [
    "def box(x, y, n, k):\n",
    "    return combinations(k, x) * combinations (n-k, y-x) / combinations(n, y)\n",
    "    \n",
    "\n",
    "def box1(x, y=2):\n",
    "    return box(x, y, n=8, k=5)\n",
    "\n",
    "\n",
    "def box2(x, y=4):\n",
    "    return box(x, y, n=12, k=5)\n",
    "\n",
    "\n",
    "def boxes(x1, x2):\n",
    "    return box1(x1) * box2(x2)"
   ]
  },
  {
   "cell_type": "code",
   "execution_count": 31,
   "metadata": {},
   "outputs": [
    {
     "name": "stdout",
     "output_type": "stream",
     "text": [
      "Вероятность, что 3 мяча белые = 12.87%\n"
     ]
    }
   ],
   "source": [
    "print('Вероятность, что 3 мяча белые = {0:.2f}%'.format(boxes(0, 3) + boxes(1, 2) + boxes(2, 1) * 100))"
   ]
  },
  {
   "cell_type": "markdown",
   "metadata": {},
   "source": [
    "3. На соревновании по биатлону один из трех спортсменов стреляет и попадает в мишень. Вероятность попадания для первого спортсмена равна 0.9, для второго — 0.8, для третьего — 0.6. Найти вероятность того, что выстрел произведен: a). первым спортсменом б). вторым спортсменом в). третьим спортсменом."
   ]
  },
  {
   "cell_type": "markdown",
   "metadata": {},
   "source": [
    "A - попадание в мишень\n",
    "\n",
    "P(Bn) = P(B1) = P(B2) = P(B3) = 1/3\n",
    "\n",
    "По формуле Байеса: P(Bn|A) = P(Bn) * P(A|Bn) / P(A)\n",
    "\n",
    "Полная вероятность: P(A) = P(B1) P(A|B1) + P(B2) P(A|B2) + P(B3) * P(A|B3)"
   ]
  },
  {
   "cell_type": "code",
   "execution_count": 33,
   "metadata": {},
   "outputs": [],
   "source": [
    "p_a_b1 = 0.9\n",
    "p_a_b2 = 0.8\n",
    "p_a_b3 = 0.6\n",
    "\n",
    "p_b1 = p_b2 = p_b3 = p_bn = 1 / 3\n",
    "\n",
    "p_a = p_bn * (p_a_b1 + p_a_b2 + p_a_b3)\n",
    "\n",
    "p_b1_a = p_b1 * p_a_b1 / p_a\n",
    "p_b2_a = p_b2 * p_a_b2 / p_a\n",
    "p_b3_a = p_b3 * p_a_b3 / p_a"
   ]
  },
  {
   "cell_type": "code",
   "execution_count": 37,
   "metadata": {},
   "outputs": [
    {
     "name": "stdout",
     "output_type": "stream",
     "text": [
      "Вероятность, попадания для первого спортсмена = 39.13%\n",
      "Вероятность, попадания для второго спортсмена = 34.78%\n",
      "Вероятность, попадания для третьего спортсмена = 26.09%\n"
     ]
    }
   ],
   "source": [
    "print('Вероятность, попадания для первого спортсмена = {0:.2f}%'.format(p_b1_a * 100))\n",
    "print('Вероятность, попадания для второго спортсмена = {0:.2f}%'.format(p_b2_a * 100))\n",
    "print('Вероятность, попадания для третьего спортсмена = {0:.2f}%'.format(p_b3_a * 100))"
   ]
  },
  {
   "cell_type": "markdown",
   "metadata": {},
   "source": [
    "4. В университет на факультеты A и B поступило равное количество студентов, а на факультет C студентов поступило столько же, сколько на A и B вместе. Вероятность того, что студент факультета A сдаст первую сессию, равна 0.8. Для студента факультета B эта вероятность равна 0.7, а для студента факультета C - 0.9. Студент сдал первую сессию. Какова вероятность, что он учится: a). на факультете A б). на факультете B в). на факультете C?"
   ]
  },
  {
   "cell_type": "markdown",
   "metadata": {},
   "source": [
    "X - сданная сессия, A, B, C - факультеты\n",
    "\n",
    "P(X) = P(A) P(X|A) + P(B) P(X|B) + P(C) * P(X|C)"
   ]
  },
  {
   "cell_type": "code",
   "execution_count": 38,
   "metadata": {},
   "outputs": [],
   "source": [
    "p_a = p_b = 1 / 4\n",
    "p_c = 1 / 2\n",
    "\n",
    "p_x_a = 0.8\n",
    "p_x_b = 0.7\n",
    "p_x_c = 0.9\n",
    "\n",
    "p_x = p_a * p_x_a + p_b * p_x_b + p_c * p_x_c"
   ]
  },
  {
   "cell_type": "code",
   "execution_count": 39,
   "metadata": {},
   "outputs": [],
   "source": [
    "p_a_x = p_a * p_x_a / p_x\n",
    "p_b_x = p_b * p_x_b / p_x\n",
    "p_c_x = p_c * p_x_c / p_x"
   ]
  },
  {
   "cell_type": "code",
   "execution_count": 41,
   "metadata": {},
   "outputs": [
    {
     "name": "stdout",
     "output_type": "stream",
     "text": [
      "Вероятность, что он учится на факультете A = 24.24%\n",
      "Вероятность, что он учится на факультете Б = 21.21%\n",
      "Вероятность, что он учится на факультете С = 54.55%\n"
     ]
    }
   ],
   "source": [
    "print('Вероятность, что он учится на факультете A = {0:.2f}%'.format(p_a_x * 100))\n",
    "print('Вероятность, что он учится на факультете Б = {0:.2f}%'.format(p_b_x * 100))\n",
    "print('Вероятность, что он учится на факультете С = {0:.2f}%'.format(p_c_x * 100))"
   ]
  },
  {
   "cell_type": "markdown",
   "metadata": {},
   "source": [
    "5. Устройство состоит из трех деталей. Для первой детали вероятность выйти из строя в первый месяц равна 0.1, для второй - 0.2, для третьей - 0.25. Какова вероятность того, что в первый месяц выйдут из строя: а). все детали б). только две детали в). хотя бы одна деталь г). от одной до двух деталей?"
   ]
  },
  {
   "cell_type": "markdown",
   "metadata": {},
   "source": [
    "##### обозначим детали как a, b и c; события независимые, их вероятности:"
   ]
  },
  {
   "cell_type": "code",
   "execution_count": 42,
   "metadata": {},
   "outputs": [],
   "source": [
    "p_a = 0.1\n",
    "p_b = 0.2\n",
    "p_c = 0.25"
   ]
  },
  {
   "cell_type": "code",
   "execution_count": 44,
   "metadata": {},
   "outputs": [],
   "source": [
    "p_all = p_a * p_b * p_c\n",
    "print('Вероятность, что все детали выйдут из строя в первый месяц = {0:.2f}%'.format(p_all * 100))"
   ]
  },
  {
   "cell_type": "code",
   "execution_count": 45,
   "metadata": {},
   "outputs": [
    {
     "name": "stdout",
     "output_type": "stream",
     "text": [
      "Вероятность, что только две детали выйдут из строя в первый месяц = 8.00%\n"
     ]
    }
   ],
   "source": [
    "p_2 = p_a * p_b * (1 - p_c) + p_a * (1 - p_b) * p_c + (1 - p_a) * p_b * p_c\n",
    "print('Вероятность, что только две детали выйдут из строя в первый месяц = {0:.2f}%'.format(p_2 * 100))"
   ]
  },
  {
   "cell_type": "code",
   "execution_count": 46,
   "metadata": {},
   "outputs": [
    {
     "name": "stdout",
     "output_type": "stream",
     "text": [
      "Вероятность, что хотя бы одна деталь выйдет из строя в первый месяц = 46.00%\n"
     ]
    }
   ],
   "source": [
    "p_any = 1 - (1 - p_a) * (1 - p_b) * (1 - p_c)\n",
    "print('Вероятность, что хотя бы одна деталь выйдет из строя в первый месяц = {0:.2f}%'.format(p_any * 100))"
   ]
  },
  {
   "cell_type": "code",
   "execution_count": 47,
   "metadata": {},
   "outputs": [
    {
     "name": "stdout",
     "output_type": "stream",
     "text": [
      "Вероятность, что одна деталь выйдет из строя в первый месяц = 37.50%\n"
     ]
    }
   ],
   "source": [
    "p_1 = p_a * (1 - p_b) * (1 - p_c) + (1 - p_a) * p_b * (1 - p_c) + (1 - p_a) * (1 - p_b) * p_c\n",
    "print('Вероятность, что одна деталь выйдет из строя в первый месяц = {0:.2f}%'.format(p_1 * 100))"
   ]
  },
  {
   "cell_type": "code",
   "execution_count": 48,
   "metadata": {},
   "outputs": [
    {
     "name": "stdout",
     "output_type": "stream",
     "text": [
      "Вероятность, что от одной до двух деталей выйдут из строя в первый месяц = 45.50%\n"
     ]
    }
   ],
   "source": [
    "p_1_or_2 = p_1 + p_2\n",
    "print('Вероятность, что от одной до двух деталей выйдут из строя в первый месяц = {0:.2f}%'.format(p_1_or_2 * 100))"
   ]
  }
 ],
 "metadata": {
  "kernelspec": {
   "display_name": "Python 3",
   "language": "python",
   "name": "python3"
  },
  "language_info": {
   "codemirror_mode": {
    "name": "ipython",
    "version": 3
   },
   "file_extension": ".py",
   "mimetype": "text/x-python",
   "name": "python",
   "nbconvert_exporter": "python",
   "pygments_lexer": "ipython3",
   "version": "3.8.3"
  }
 },
 "nbformat": 4,
 "nbformat_minor": 4
}
